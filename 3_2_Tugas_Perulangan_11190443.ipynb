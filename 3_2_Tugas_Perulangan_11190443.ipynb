{
 "cells": [
  {
   "cell_type": "code",
   "execution_count": null,
   "metadata": {
    "id": "fkV8YRAQlm-C"
   },
   "outputs": [],
   "source": []
  },
  {
   "cell_type": "markdown",
   "metadata": {
    "id": "lnkJ-zBHl3jp"
   },
   "source": [
    "## Access Element\n",
    "Keunikan lain dari looping dengan python adalah selain bahasa yang mudah dimengerti dalam looping, kita juga bisa mengakses elemen yang terdapat pada sebuah list. Berikut ini contohnya :\n",
    "``` javascript\n",
    "#Tugas 3.2.1\n",
    "count=[1,2,3,4,5] #elemen list\n",
    "\n",
    "for number in count: #looping untuk menampilkan semua elemen pada count\n",
    "    print(\"Ini adalah element count : \", number) #menampilkan elemen list pada count\n",
    "```\n",
    "Implekementasikan kode diatas, ketikan pada code cell di bawah ini, berikan penjelasan terkait kode diatas"
   ]
  },
  {
   "cell_type": "code",
   "execution_count": 4,
   "metadata": {
    "id": "xYjQqqNLm-dB"
   },
   "outputs": [
    {
     "name": "stdout",
     "output_type": "stream",
     "text": [
      "Ini adalah element count :  1\n",
      "Ini adalah element count :  2\n",
      "Ini adalah element count :  3\n",
      "Ini adalah element count :  4\n",
      "Ini adalah element count :  5\n"
     ]
    }
   ],
   "source": [
    "count=[1,2,3,4,5]\n",
    "for number in count:\n",
    "    print(\"Ini adalah element count : \", number)"
   ]
  },
  {
   "cell_type": "markdown",
   "metadata": {
    "id": "figDWKAcnZRA"
   },
   "source": [
    "## Tugas Praktek 3.2.2\n",
    "1. Buatlah sebuah program yang bisa mengeluarkan angka 1 sampai 10.\n",
    "1. Buatlah sebuah program yang bisa mengeluarkan angka -20 sampai -50.\n",
    "3. Tampilan akan menunjukan \"Angka ganjil 1\" untuk angka ganjil dan \"Angka genap 2\" untuk angka genap. (Menggunakan looping for)\n",
    "\n",
    "**Note:** Kode dasar sudah disertakan, Anda cukup mengganti tanda # dengan nilai-nilai yang sesuai."
   ]
  },
  {
   "cell_type": "code",
   "execution_count": 6,
   "metadata": {
    "id": "MElhruOTntzZ"
   },
   "outputs": [
    {
     "name": "stdout",
     "output_type": "stream",
     "text": [
      "ini adalah element  count :  1\n",
      "ini adalah element  count :  2\n",
      "ini adalah element  count :  3\n",
      "ini adalah element  count :  4\n",
      "ini adalah element  count :  5\n",
      "ini adalah element  count :  6\n",
      "ini adalah element  count :  7\n",
      "ini adalah element  count :  8\n",
      "ini adalah element  count :  9\n",
      "ini adalah element  count :  10\n"
     ]
    }
   ],
   "source": [
    "count=[1,2,3,4,5,6,7,8,9,10]\n",
    "for number in count :\n",
    "    print (\"ini adalah element  count : \",number)"
   ]
  },
  {
   "cell_type": "code",
   "execution_count": 7,
   "metadata": {
    "id": "NFtMjrQznuF2"
   },
   "outputs": [
    {
     "name": "stdout",
     "output_type": "stream",
     "text": [
      "ini adalah element  count :  -20\n",
      "ini adalah element  count :  -21\n",
      "ini adalah element  count :  -22\n",
      "ini adalah element  count :  -23\n",
      "ini adalah element  count :  -24\n",
      "ini adalah element  count :  -25\n",
      "ini adalah element  count :  -26\n",
      "ini adalah element  count :  -27\n",
      "ini adalah element  count :  -28\n",
      "ini adalah element  count :  -29\n",
      "ini adalah element  count :  -30\n",
      "ini adalah element  count :  -31\n",
      "ini adalah element  count :  -32\n",
      "ini adalah element  count :  -33\n",
      "ini adalah element  count :  -34\n",
      "ini adalah element  count :  -35\n",
      "ini adalah element  count :  -36\n",
      "ini adalah element  count :  -37\n",
      "ini adalah element  count :  -38\n",
      "ini adalah element  count :  -39\n",
      "ini adalah element  count :  -40\n",
      "ini adalah element  count :  -41\n",
      "ini adalah element  count :  -42\n",
      "ini adalah element  count :  -43\n",
      "ini adalah element  count :  -44\n",
      "ini adalah element  count :  -45\n",
      "ini adalah element  count :  -46\n",
      "ini adalah element  count :  -47\n",
      "ini adalah element  count :  -48\n",
      "ini adalah element  count :  -49\n",
      "ini adalah element  count :  -50\n"
     ]
    }
   ],
   "source": [
    "count=[-20,-21,-22,-23,-24,-25,-26,-27,-28,-29,-30,-31,-32,-33,-34,-35,-36,-37,-38,-39,-40,-41,-42,-43,-44,-45,-46,-47,-48,-49,-50]\n",
    "for number in count :\n",
    "    print (\"ini adalah element  count : \",number)"
   ]
  },
  {
   "cell_type": "code",
   "execution_count": 13,
   "metadata": {
    "id": "xpGigMPBpBy7"
   },
   "outputs": [
    {
     "name": "stdout",
     "output_type": "stream",
     "text": [
      "Ini adalah angka ganjil :  1\n",
      "Ini adalah angka ganjil :  3\n",
      "Ini adalah angka ganjil :  5\n",
      "Ini adalah angka ganjil :  7\n",
      "Ini adalah angka genap :  2\n",
      "Ini adalah angka genap :  4\n",
      "Ini adalah angka genap :  6\n",
      "Ini adalah angka genap :  8\n"
     ]
    }
   ],
   "source": [
    "count=[1,3,5,7]\n",
    "counts=[2,4,6,8]\n",
    "for number in count:\n",
    "    print (\"Ini adalah angka ganjil : \", number)\n",
    "    \n",
    "for number in counts:\n",
    "    print (\"Ini adalah angka genap : \", number)"
   ]
  }
 ],
 "metadata": {
  "colab": {
   "collapsed_sections": [],
   "name": "3.2_Tugas_Perulangan.ipynb",
   "provenance": []
  },
  "kernelspec": {
   "display_name": "Python 3",
   "language": "python",
   "name": "python3"
  },
  "language_info": {
   "codemirror_mode": {
    "name": "ipython",
    "version": 3
   },
   "file_extension": ".py",
   "mimetype": "text/x-python",
   "name": "python",
   "nbconvert_exporter": "python",
   "pygments_lexer": "ipython3",
   "version": "3.7.4"
  }
 },
 "nbformat": 4,
 "nbformat_minor": 1
}
